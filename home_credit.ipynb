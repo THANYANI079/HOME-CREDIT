{
 "cells": [
  {
   "cell_type": "markdown",
   "metadata": {
    "_uuid": "3087a96d690f55d82f6c301334ca5c296fb4508b"
   },
   "source": []
  },
  {
   "cell_type": "markdown",
   "metadata": {
    "_uuid": "8d588c1f25daf2de9d84b9b86cb20d98df5ac302"
   },
   "source": [
    "# 1. Introduction\n",
    "In this notebook, we will take an initial look at the Home Credit default risk machine learning competition currently hosted on Kaggle. The objective of this competition is to use historical loan application data to predict whether or not an applicant will be able to repay a loan."
   ]
  },
  {
   "cell_type": "markdown",
   "metadata": {
    "_uuid": "bf71e3000fcfe57176d1cbbe24097fae518f6f24"
   },
   "source": [
    "# 2. Importing requires packages"
   ]
  },
  {
   "cell_type": "code",
   "execution_count": 1,
   "metadata": {
    "_cell_guid": "b1076dfc-b9ad-4769-8c92-a6c4dae69d19",
    "_uuid": "8f2839f25d086af736a60e9eeb907d3b93b6e0e5"
   },
   "outputs": [],
   "source": [
    "# numpy and pandas for data manipulation\n",
    "import numpy as np\n",
    "import pandas as pd \n",
    "\n",
    "# sklearn preprocessing for dealing with categorical variables\n",
    "from sklearn.preprocessing import LabelEncoder\n",
    "\n",
    "# File system manangement\n",
    "import os\n",
    "import gc\n",
    "# Suppress warnings \n",
    "import warnings\n",
    "warnings.filterwarnings('ignore')\n",
    "\n",
    "# matplotlib and seaborn for plotting\n",
    "import matplotlib.pyplot as plt\n",
    "import seaborn as sns"
   ]
  },
  {
   "cell_type": "markdown",
   "metadata": {
    "_uuid": "96bfa9ad20a17c549082a231a25f2ad7910d637e"
   },
   "source": [
    "# 3. Retrieving the Data"
   ]
  },
  {
   "cell_type": "code",
   "execution_count": 2,
   "metadata": {
    "_cell_guid": "79c7e3d0-c299-4dcb-8224-4455121ee9b0",
    "_uuid": "d629ff2d2480ee46fbb7e2d37f6b5fab8052498a"
   },
   "outputs": [
    {
     "name": "stdout",
     "output_type": "stream",
     "text": [
      "['POS_CASH_balance.csv', 'bureau_balance.csv', 'application_train.csv', 'previous_application.csv', 'installments_payments.csv', 'credit_card_balance.csv', 'sample_submission.csv', 'application_test.csv', 'bureau.csv']\n"
     ]
    }
   ],
   "source": [
    "# List files available\n",
    "print(os.listdir(\"../input/\"))"
   ]
  },
  {
   "cell_type": "markdown",
   "metadata": {
    "_uuid": "92dc8d3311c854878d6544e256c1873e0c008087"
   },
   "source": [
    "# 4. Exploration of Application Train/Test Data."
   ]
  },
  {
   "cell_type": "code",
   "execution_count": 3,
   "metadata": {
    "_uuid": "5d09edbeaea23b434aba4040877a95cd227058ce",
    "scrolled": false
   },
   "outputs": [
    {
     "name": "stdout",
     "output_type": "stream",
     "text": [
      "Training data shape: (307511, 122), Testing data shape: (48744, 121)\n"
     ]
    }
   ],
   "source": [
    "# Training data\n",
    "app_train = pd.read_csv('../input/application_train.csv')\n",
    "app_test = pd.read_csv('../input/application_test.csv')\n",
    "print('Training data shape: {}, Testing data shape: {}'.format( app_train.shape,app_test.shape))"
   ]
  },
  {
   "cell_type": "markdown",
   "metadata": {
    "_uuid": "7866b36782828432e72d1b46a7175470aa080061"
   },
   "source": [
    "## 4.1 Merge both train and test dataset"
   ]
  },
  {
   "cell_type": "code",
   "execution_count": 4,
   "metadata": {
    "_uuid": "d07be4ad6b75346b7931125aab517aa39aa5742e"
   },
   "outputs": [
    {
     "data": {
      "text/html": [
       "<div>\n",
       "<style scoped>\n",
       "    .dataframe tbody tr th:only-of-type {\n",
       "        vertical-align: middle;\n",
       "    }\n",
       "\n",
       "    .dataframe tbody tr th {\n",
       "        vertical-align: top;\n",
       "    }\n",
       "\n",
       "    .dataframe thead th {\n",
       "        text-align: right;\n",
       "    }\n",
       "</style>\n",
       "<table border=\"1\" class=\"dataframe\">\n",
       "  <thead>\n",
       "    <tr style=\"text-align: right;\">\n",
       "      <th></th>\n",
       "      <th>AMT_ANNUITY</th>\n",
       "      <th>AMT_CREDIT</th>\n",
       "      <th>AMT_GOODS_PRICE</th>\n",
       "      <th>AMT_INCOME_TOTAL</th>\n",
       "      <th>AMT_REQ_CREDIT_BUREAU_DAY</th>\n",
       "      <th>AMT_REQ_CREDIT_BUREAU_HOUR</th>\n",
       "      <th>AMT_REQ_CREDIT_BUREAU_MON</th>\n",
       "      <th>AMT_REQ_CREDIT_BUREAU_QRT</th>\n",
       "      <th>AMT_REQ_CREDIT_BUREAU_WEEK</th>\n",
       "      <th>AMT_REQ_CREDIT_BUREAU_YEAR</th>\n",
       "      <th>...</th>\n",
       "      <th>REG_REGION_NOT_WORK_REGION</th>\n",
       "      <th>SK_ID_CURR</th>\n",
       "      <th>TARGET</th>\n",
       "      <th>TOTALAREA_MODE</th>\n",
       "      <th>YEARS_BEGINEXPLUATATION_AVG</th>\n",
       "      <th>YEARS_BEGINEXPLUATATION_MEDI</th>\n",
       "      <th>YEARS_BEGINEXPLUATATION_MODE</th>\n",
       "      <th>YEARS_BUILD_AVG</th>\n",
       "      <th>YEARS_BUILD_MEDI</th>\n",
       "      <th>YEARS_BUILD_MODE</th>\n",
       "    </tr>\n",
       "  </thead>\n",
       "  <tbody>\n",
       "    <tr>\n",
       "      <th>count</th>\n",
       "      <td>356219.000000</td>\n",
       "      <td>3.562550e+05</td>\n",
       "      <td>3.559770e+05</td>\n",
       "      <td>3.562550e+05</td>\n",
       "      <td>308687.000000</td>\n",
       "      <td>308687.000000</td>\n",
       "      <td>308687.000000</td>\n",
       "      <td>308687.000000</td>\n",
       "      <td>308687.000000</td>\n",
       "      <td>308687.000000</td>\n",
       "      <td>...</td>\n",
       "      <td>356255.000000</td>\n",
       "      <td>356255.000000</td>\n",
       "      <td>307511.000000</td>\n",
       "      <td>185200.000000</td>\n",
       "      <td>183392.000000</td>\n",
       "      <td>183392.000000</td>\n",
       "      <td>183392.000000</td>\n",
       "      <td>119949.000000</td>\n",
       "      <td>119949.000000</td>\n",
       "      <td>119949.000000</td>\n",
       "    </tr>\n",
       "    <tr>\n",
       "      <th>mean</th>\n",
       "      <td>27425.560657</td>\n",
       "      <td>5.877674e+05</td>\n",
       "      <td>5.280200e+05</td>\n",
       "      <td>1.701161e+05</td>\n",
       "      <td>0.006281</td>\n",
       "      <td>0.005808</td>\n",
       "      <td>0.231697</td>\n",
       "      <td>0.304399</td>\n",
       "      <td>0.029995</td>\n",
       "      <td>1.911564</td>\n",
       "      <td>...</td>\n",
       "      <td>0.051371</td>\n",
       "      <td>278128.000000</td>\n",
       "      <td>0.080729</td>\n",
       "      <td>0.103193</td>\n",
       "      <td>0.977889</td>\n",
       "      <td>0.977903</td>\n",
       "      <td>0.977239</td>\n",
       "      <td>0.752283</td>\n",
       "      <td>0.755548</td>\n",
       "      <td>0.759452</td>\n",
       "    </tr>\n",
       "    <tr>\n",
       "      <th>std</th>\n",
       "      <td>14732.808190</td>\n",
       "      <td>3.986237e+05</td>\n",
       "      <td>3.660650e+05</td>\n",
       "      <td>2.235068e+05</td>\n",
       "      <td>0.104250</td>\n",
       "      <td>0.079736</td>\n",
       "      <td>0.855949</td>\n",
       "      <td>0.786915</td>\n",
       "      <td>0.191374</td>\n",
       "      <td>1.865338</td>\n",
       "      <td>...</td>\n",
       "      <td>0.220753</td>\n",
       "      <td>102842.104413</td>\n",
       "      <td>0.272419</td>\n",
       "      <td>0.108041</td>\n",
       "      <td>0.057929</td>\n",
       "      <td>0.058562</td>\n",
       "      <td>0.063165</td>\n",
       "      <td>0.113267</td>\n",
       "      <td>0.112057</td>\n",
       "      <td>0.110112</td>\n",
       "    </tr>\n",
       "    <tr>\n",
       "      <th>min</th>\n",
       "      <td>1615.500000</td>\n",
       "      <td>4.500000e+04</td>\n",
       "      <td>4.050000e+04</td>\n",
       "      <td>2.565000e+04</td>\n",
       "      <td>0.000000</td>\n",
       "      <td>0.000000</td>\n",
       "      <td>0.000000</td>\n",
       "      <td>0.000000</td>\n",
       "      <td>0.000000</td>\n",
       "      <td>0.000000</td>\n",
       "      <td>...</td>\n",
       "      <td>0.000000</td>\n",
       "      <td>100001.000000</td>\n",
       "      <td>0.000000</td>\n",
       "      <td>0.000000</td>\n",
       "      <td>0.000000</td>\n",
       "      <td>0.000000</td>\n",
       "      <td>0.000000</td>\n",
       "      <td>0.000000</td>\n",
       "      <td>0.000000</td>\n",
       "      <td>0.000000</td>\n",
       "    </tr>\n",
       "    <tr>\n",
       "      <th>25%</th>\n",
       "      <td>16731.000000</td>\n",
       "      <td>2.700000e+05</td>\n",
       "      <td>2.340000e+05</td>\n",
       "      <td>1.125000e+05</td>\n",
       "      <td>0.000000</td>\n",
       "      <td>0.000000</td>\n",
       "      <td>0.000000</td>\n",
       "      <td>0.000000</td>\n",
       "      <td>0.000000</td>\n",
       "      <td>0.000000</td>\n",
       "      <td>...</td>\n",
       "      <td>0.000000</td>\n",
       "      <td>189064.500000</td>\n",
       "      <td>0.000000</td>\n",
       "      <td>0.041500</td>\n",
       "      <td>0.976700</td>\n",
       "      <td>0.976700</td>\n",
       "      <td>0.976700</td>\n",
       "      <td>0.687200</td>\n",
       "      <td>0.691400</td>\n",
       "      <td>0.699400</td>\n",
       "    </tr>\n",
       "    <tr>\n",
       "      <th>50%</th>\n",
       "      <td>25078.500000</td>\n",
       "      <td>5.002110e+05</td>\n",
       "      <td>4.500000e+05</td>\n",
       "      <td>1.530000e+05</td>\n",
       "      <td>0.000000</td>\n",
       "      <td>0.000000</td>\n",
       "      <td>0.000000</td>\n",
       "      <td>0.000000</td>\n",
       "      <td>0.000000</td>\n",
       "      <td>1.000000</td>\n",
       "      <td>...</td>\n",
       "      <td>0.000000</td>\n",
       "      <td>278128.000000</td>\n",
       "      <td>0.000000</td>\n",
       "      <td>0.069000</td>\n",
       "      <td>0.981600</td>\n",
       "      <td>0.981600</td>\n",
       "      <td>0.981600</td>\n",
       "      <td>0.755200</td>\n",
       "      <td>0.758500</td>\n",
       "      <td>0.764800</td>\n",
       "    </tr>\n",
       "    <tr>\n",
       "      <th>75%</th>\n",
       "      <td>34960.500000</td>\n",
       "      <td>7.975575e+05</td>\n",
       "      <td>6.750000e+05</td>\n",
       "      <td>2.025000e+05</td>\n",
       "      <td>0.000000</td>\n",
       "      <td>0.000000</td>\n",
       "      <td>0.000000</td>\n",
       "      <td>0.000000</td>\n",
       "      <td>0.000000</td>\n",
       "      <td>3.000000</td>\n",
       "      <td>...</td>\n",
       "      <td>0.000000</td>\n",
       "      <td>367191.500000</td>\n",
       "      <td>0.000000</td>\n",
       "      <td>0.128700</td>\n",
       "      <td>0.986600</td>\n",
       "      <td>0.986600</td>\n",
       "      <td>0.986600</td>\n",
       "      <td>0.823200</td>\n",
       "      <td>0.825600</td>\n",
       "      <td>0.823600</td>\n",
       "    </tr>\n",
       "    <tr>\n",
       "      <th>max</th>\n",
       "      <td>258025.500000</td>\n",
       "      <td>4.050000e+06</td>\n",
       "      <td>4.050000e+06</td>\n",
       "      <td>1.170000e+08</td>\n",
       "      <td>9.000000</td>\n",
       "      <td>4.000000</td>\n",
       "      <td>27.000000</td>\n",
       "      <td>261.000000</td>\n",
       "      <td>8.000000</td>\n",
       "      <td>25.000000</td>\n",
       "      <td>...</td>\n",
       "      <td>1.000000</td>\n",
       "      <td>456255.000000</td>\n",
       "      <td>1.000000</td>\n",
       "      <td>1.000000</td>\n",
       "      <td>1.000000</td>\n",
       "      <td>1.000000</td>\n",
       "      <td>1.000000</td>\n",
       "      <td>1.000000</td>\n",
       "      <td>1.000000</td>\n",
       "      <td>1.000000</td>\n",
       "    </tr>\n",
       "  </tbody>\n",
       "</table>\n",
       "<p>8 rows × 106 columns</p>\n",
       "</div>"
      ],
      "text/plain": [
       "         AMT_ANNUITY    AMT_CREDIT  AMT_GOODS_PRICE  AMT_INCOME_TOTAL  \\\n",
       "count  356219.000000  3.562550e+05     3.559770e+05      3.562550e+05   \n",
       "mean    27425.560657  5.877674e+05     5.280200e+05      1.701161e+05   \n",
       "std     14732.808190  3.986237e+05     3.660650e+05      2.235068e+05   \n",
       "min      1615.500000  4.500000e+04     4.050000e+04      2.565000e+04   \n",
       "25%     16731.000000  2.700000e+05     2.340000e+05      1.125000e+05   \n",
       "50%     25078.500000  5.002110e+05     4.500000e+05      1.530000e+05   \n",
       "75%     34960.500000  7.975575e+05     6.750000e+05      2.025000e+05   \n",
       "max    258025.500000  4.050000e+06     4.050000e+06      1.170000e+08   \n",
       "\n",
       "       AMT_REQ_CREDIT_BUREAU_DAY  AMT_REQ_CREDIT_BUREAU_HOUR  \\\n",
       "count              308687.000000               308687.000000   \n",
       "mean                    0.006281                    0.005808   \n",
       "std                     0.104250                    0.079736   \n",
       "min                     0.000000                    0.000000   \n",
       "25%                     0.000000                    0.000000   \n",
       "50%                     0.000000                    0.000000   \n",
       "75%                     0.000000                    0.000000   \n",
       "max                     9.000000                    4.000000   \n",
       "\n",
       "       AMT_REQ_CREDIT_BUREAU_MON  AMT_REQ_CREDIT_BUREAU_QRT  \\\n",
       "count              308687.000000              308687.000000   \n",
       "mean                    0.231697                   0.304399   \n",
       "std                     0.855949                   0.786915   \n",
       "min                     0.000000                   0.000000   \n",
       "25%                     0.000000                   0.000000   \n",
       "50%                     0.000000                   0.000000   \n",
       "75%                     0.000000                   0.000000   \n",
       "max                    27.000000                 261.000000   \n",
       "\n",
       "       AMT_REQ_CREDIT_BUREAU_WEEK  AMT_REQ_CREDIT_BUREAU_YEAR  \\\n",
       "count               308687.000000               308687.000000   \n",
       "mean                     0.029995                    1.911564   \n",
       "std                      0.191374                    1.865338   \n",
       "min                      0.000000                    0.000000   \n",
       "25%                      0.000000                    0.000000   \n",
       "50%                      0.000000                    1.000000   \n",
       "75%                      0.000000                    3.000000   \n",
       "max                      8.000000                   25.000000   \n",
       "\n",
       "             ...         REG_REGION_NOT_WORK_REGION     SK_ID_CURR  \\\n",
       "count        ...                      356255.000000  356255.000000   \n",
       "mean         ...                           0.051371  278128.000000   \n",
       "std          ...                           0.220753  102842.104413   \n",
       "min          ...                           0.000000  100001.000000   \n",
       "25%          ...                           0.000000  189064.500000   \n",
       "50%          ...                           0.000000  278128.000000   \n",
       "75%          ...                           0.000000  367191.500000   \n",
       "max          ...                           1.000000  456255.000000   \n",
       "\n",
       "              TARGET  TOTALAREA_MODE  YEARS_BEGINEXPLUATATION_AVG  \\\n",
       "count  307511.000000   185200.000000                183392.000000   \n",
       "mean        0.080729        0.103193                     0.977889   \n",
       "std         0.272419        0.108041                     0.057929   \n",
       "min         0.000000        0.000000                     0.000000   \n",
       "25%         0.000000        0.041500                     0.976700   \n",
       "50%         0.000000        0.069000                     0.981600   \n",
       "75%         0.000000        0.128700                     0.986600   \n",
       "max         1.000000        1.000000                     1.000000   \n",
       "\n",
       "       YEARS_BEGINEXPLUATATION_MEDI  YEARS_BEGINEXPLUATATION_MODE  \\\n",
       "count                 183392.000000                 183392.000000   \n",
       "mean                       0.977903                      0.977239   \n",
       "std                        0.058562                      0.063165   \n",
       "min                        0.000000                      0.000000   \n",
       "25%                        0.976700                      0.976700   \n",
       "50%                        0.981600                      0.981600   \n",
       "75%                        0.986600                      0.986600   \n",
       "max                        1.000000                      1.000000   \n",
       "\n",
       "       YEARS_BUILD_AVG  YEARS_BUILD_MEDI  YEARS_BUILD_MODE  \n",
       "count    119949.000000     119949.000000     119949.000000  \n",
       "mean          0.752283          0.755548          0.759452  \n",
       "std           0.113267          0.112057          0.110112  \n",
       "min           0.000000          0.000000          0.000000  \n",
       "25%           0.687200          0.691400          0.699400  \n",
       "50%           0.755200          0.758500          0.764800  \n",
       "75%           0.823200          0.825600          0.823600  \n",
       "max           1.000000          1.000000          1.000000  \n",
       "\n",
       "[8 rows x 106 columns]"
      ]
     },
     "execution_count": 4,
     "metadata": {},
     "output_type": "execute_result"
    }
   ],
   "source": [
    "df = app_train\n",
    "df = df.append(app_test)\n",
    "df.describe()"
   ]
  },
  {
   "cell_type": "markdown",
   "metadata": {
    "_uuid": "43fde147c2a6fc364707c252a404b71ea1e98355"
   },
   "source": [
    "We can see there are some anamolies in  `DAYS_EMPLOYED`.\n",
    "\n",
    "`DAYS_EMPLOYED` at max seems to have very large positive value.\n"
   ]
  },
  {
   "cell_type": "markdown",
   "metadata": {
    "_uuid": "9d1a6e70189b3446627ba3f2d4386a79642625ed"
   },
   "source": [
    "## 4.2 Removing Anamolies / Outlier\n",
    "In statistics, an outlier is an observation point that is distant from other observations. An outlier may be due to variability in the measurement or it may indicate experimental error; the latter are sometimes excluded from the data set. An outlier can cause serious problems in statistical analyses.\n",
    "\n",
    "\n"
   ]
  },
  {
   "cell_type": "code",
   "execution_count": 5,
   "metadata": {
    "_uuid": "3a76ddc0858aec603ca2e819806ecb6f540d02c5"
   },
   "outputs": [
    {
     "data": {
      "image/png": "[encoded data removed]",
      "text/plain": [
       "<matplotlib.figure.Figure at 0x7ff136787588>"
      ]
     },
     "metadata": {},
     "output_type": "display_data"
    }
   ],
   "source": [
    "app_train['DAYS_EMPLOYED'].plot.hist(title = 'Days Employment Histogram');\n",
    "plt.xlabel('Days Employment');"
   ]
  },
  {
   "cell_type": "markdown",
   "metadata": {
    "_uuid": "acd16b22ea8afc01a10763ca2edabea53e9abdf5"
   },
   "source": [
    "365243 days is somewhat around 1000 years, which is impossible.\n",
    "\n",
    "So, its best for us to replace it by NaN."
   ]
  },
  {
   "cell_type": "code",
   "execution_count": 6,
   "metadata": {
    "_uuid": "9388c3b659a85e9b4fbfa41570162fb1e6568cfd",
    "collapsed": true
   },
   "outputs": [],
   "source": [
    "# NaN values for DAYS_EMPLOYED: 365.243 -> nan\n",
    "df['DAYS_EMPLOYED'].replace(365243, np.nan, inplace= True)"
   ]
  },
  {
   "cell_type": "markdown",
   "metadata": {
    "_uuid": "8068216fe68d03c2728d5a28f05e9c3ba15fed74"
   },
   "source": [
    "## 4.3 Categorical Variables "
   ]
  },
  {
   "cell_type": "code",
   "execution_count": 7,
   "metadata": {
    "_uuid": "93b650b0b5ad44230ba4f6ca20de27b5acc42846",
    "scrolled": true
   },
   "outputs": [
    {
     "data": {
      "text/plain": [
       "NAME_CONTRACT_TYPE             2\n",
       "CODE_GENDER                    3\n",
       "FLAG_OWN_CAR                   2\n",
       "FLAG_OWN_REALTY                2\n",
       "NAME_TYPE_SUITE                7\n",
       "NAME_INCOME_TYPE               8\n",
       "NAME_EDUCATION_TYPE            5\n",
       "NAME_FAMILY_STATUS             6\n",
       "NAME_HOUSING_TYPE              6\n",
       "OCCUPATION_TYPE               18\n",
       "WEEKDAY_APPR_PROCESS_START     7\n",
       "ORGANIZATION_TYPE             58\n",
       "FONDKAPREMONT_MODE             4\n",
       "HOUSETYPE_MODE                 3\n",
       "WALLSMATERIAL_MODE             7\n",
       "EMERGENCYSTATE_MODE            2\n",
       "dtype: int64"
      ]
     },
     "execution_count": 7,
     "metadata": {},
     "output_type": "execute_result"
    }
   ],
   "source": [
    "# Number of unique classes in each object column\n",
    "app_train.select_dtypes('object').apply(pd.Series.nunique, axis = 0)"
   ]
  },
  {
   "cell_type": "markdown",
   "metadata": {
    "_uuid": "3e0667c221e50c8d98eafbfc079fa0aca706b64b"
   },
   "source": [
    "`CODE_GENDER` has unknown value 'XNA'. Its better to remove these 4 rows."
   ]
  },
  {
   "cell_type": "code",
   "execution_count": 8,
   "metadata": {
    "_kg_hide-input": true,
    "_kg_hide-output": false,
    "_uuid": "7d45d560cf48816e56c7c79f35fb3ff4821f3365"
   },
   "outputs": [
    {
     "name": "stdout",
     "output_type": "stream",
     "text": [
      "F      235126\n",
      "M      121125\n",
      "XNA         4\n",
      "Name: CODE_GENDER, dtype: int64\n",
      "\n",
      "Size Before (356255, 122)\n",
      "Size After (356251, 122)\n"
     ]
    }
   ],
   "source": [
    "print (df['CODE_GENDER'].value_counts())\n",
    "\n",
    "# Remove the rows with XNA value in CODE_GENDER\n",
    "print ('\\nSize Before {}'.format(df.shape))\n",
    "df = df[df['CODE_GENDER'] != 'XNA']\n",
    "print ('Size After {}'.format(df.shape))"
   ]
  },
  {
   "cell_type": "markdown",
   "metadata": {
    "_uuid": "98b9bcdd91be82ca4e71bdeb0d5d0c5ac9a00ead"
   },
   "source": [
    "## 4.4 Label Encoder and One Hot Encoding\n",
    "\n",
    "**Label Encoder **: As you might know by now, we can’t have text in our data if we’re going to run any kind of model on it. So before we can run a model, we need to make this data ready for the model.\n",
    "\n",
    "And to convert this kind of categorical text data into model-understandable numerical data, we use the Label Encoder class.\n",
    "\n",
    "Suppose, we have a feature State which has 3 category i.e India , France, China . So, Label Encoder will categorize them as 0, 1, 2.\n",
    "\n",
    "**One Hot Encoding** : One hot encoding is a process by which categorical variables are converted into a form that could be provided to ML algorithms to do a better job in prediction. \n",
    "\n",
    "If we applied OHE on say Gender column which has category male,female. OHE will create two new column Gender_male, Gender_female and store the value 0 and 1 according to the main category value."
   ]
  },
  {
   "cell_type": "code",
   "execution_count": 9,
   "metadata": {
    "_uuid": "4353d5c61b5f7477e4cba6e5ccea6377d05a7ba9",
    "scrolled": true
   },
   "outputs": [
    {
     "name": "stdout",
     "output_type": "stream",
     "text": [
      "4 variable are label encoded\n",
      "The shape of dataset after One hot encoding: (356251, 253)\n"
     ]
    }
   ],
   "source": [
    "# Create a label encoder object\n",
    "le = LabelEncoder()\n",
    "le_count = 0\n",
    "# Iterate through the columns\n",
    "for col in df:\n",
    "    if df[col].dtype == 'object':\n",
    "        # If 2 or fewer unique categories\n",
    "        if len(list(df[col].unique())) <= 2:\n",
    "            le.fit(df[col])\n",
    "            df[col] = le.transform(df[col])\n",
    "            le_count += 1\n",
    "print ('{} variable are label encoded'.format(le_count))\n",
    "\n",
    "\n",
    "# One Hot Encoding \n",
    "categorical_columns = [col for col in df.columns if df[col].dtype == 'object']\n",
    "df = pd.get_dummies(df, columns= categorical_columns, dummy_na= True)\n",
    "print ('The shape of dataset after One hot encoding: {}'.format(df.shape))"
   ]
  },
  {
   "cell_type": "markdown",
   "metadata": {
    "_uuid": "4e88bb99f17265c9f742e022e39f89abc2708163"
   },
   "source": [
    "## 4.5 Add some feature variables\n",
    "Since i don't consider myself as a credit expert. I have used this features from [this](https://www.kaggle.com/jsaguiar/updated-0-792-lb-lightgbm-with-simple-features/code#L261) script by Aguiar.\n",
    "\n",
    "- DAYS_EMPLOYED_PERC: the percentage of the days employed relative to the client's age.\n",
    "- INCOME_CREDIT_PERC: the percentage of the credit amount relative to a client's income.\n",
    "- INCOME_PER_PERSON : the percentage of income per person.\n",
    "- ANNUITY_INCOME_PERC: the percentage of the loan annuity relative to a client's income.\n",
    "- PAYMENT_RATE : the percentage of rate of payment annually."
   ]
  },
  {
   "cell_type": "code",
   "execution_count": 10,
   "metadata": {
    "_uuid": "9ace9e56fc96b1c8522e83b40907a6e4017795f3",
    "collapsed": true
   },
   "outputs": [],
   "source": [
    "df['DAYS_EMPLOYED_PERC'] = df['DAYS_EMPLOYED'] / df['DAYS_BIRTH']\n",
    "df['INCOME_CREDIT_PERC'] = df['AMT_INCOME_TOTAL'] / df['AMT_CREDIT']\n",
    "df['INCOME_PER_PERSON'] = df['AMT_INCOME_TOTAL'] / df['CNT_FAM_MEMBERS']\n",
    "df['ANNUITY_INCOME_PERC'] = df['AMT_ANNUITY'] / df['AMT_INCOME_TOTAL']\n",
    "df['PAYMENT_RATE'] = df['AMT_ANNUITY'] / df['AMT_CREDIT']"
   ]
  },
  {
   "cell_type": "markdown",
   "metadata": {
    "_uuid": "bbae91d713e58ad1f4d1aec26c5d1c2a576b9a49"
   },
   "source": [
    "## Target Column Distribution \n",
    "The target is what we are asked to predict: either a 0 for the loan was repaid on time, or a 1 indicating the client had payment difficulties. We can first examine the number of loans falling into each category."
   ]
  },
  {
   "cell_type": "code",
   "execution_count": 11,
   "metadata": {
    "_uuid": "b95194fd3173620aacccaf2dca25c1c2483dc301"
   },
   "outputs": [
    {
     "data": {
      "text/plain": [
       "0    282686\n",
       "1     24825\n",
       "Name: TARGET, dtype: int64"
      ]
     },
     "execution_count": 11,
     "metadata": {},
     "output_type": "execute_result"
    }
   ],
   "source": [
    "app_train['TARGET'].value_counts()"
   ]
  },
  {
   "cell_type": "code",
   "execution_count": 12,
   "metadata": {
    "_kg_hide-input": true,
    "_kg_hide-output": false,
    "_uuid": "6df3c4a5ec08184ce4ad2b679e9269569cd0fe12",
    "scrolled": true
   },
   "outputs": [
    {
     "data": {
      "image/png": "[encoded data removed]",
      "text/plain": [
       "<matplotlib.figure.Figure at 0x7ff1366f08d0>"
      ]
     },
     "metadata": {},
     "output_type": "display_data"
    }
   ],
   "source": [
    "app_train['TARGET'].astype(int).plot.hist();"
   ]
  },
  {
   "cell_type": "markdown",
   "metadata": {
    "_uuid": "402e1d4b650b47438acb3955ee9aa24602b66cfb"
   },
   "source": [
    "There are far more loans that were repaid on time than loans that were not repaid. Once we get into more sophisticated machine learning models, we can weight the classes by their representation in the data to reflect this imbalance."
   ]
  },
  {
   "cell_type": "markdown",
   "metadata": {
    "_uuid": "0f4c0c2eafde587d52c9d11e790e56f644f33ec6"
   },
   "source": [
    "## Garbage Collection\n",
    "Python’s memory allocation and deallocation method is automatic. The user does not have to preallocate or deallocate memory similar to using dynamic memory allocation in languages such as C or C++.\n",
    "\n",
    "Here we are using **Manual Garbage Collection**\n",
    "\n",
    "Invoking the garbage collector manually during the execution of a program can be a good idea on how to handle memory being consumed by reference cycles.\n",
    "The garbage collection can be invoked manually in the following way:"
   ]
  },
  {
   "cell_type": "code",
   "execution_count": 13,
   "metadata": {
    "_uuid": "5801e936e0d04a613b5a012d69f0a3fdaeb1de7d"
   },
   "outputs": [
    {
     "data": {
      "text/plain": [
       "2830"
      ]
     },
     "execution_count": 13,
     "metadata": {},
     "output_type": "execute_result"
    }
   ],
   "source": [
    "del app_test, app_train\n",
    "gc.collect()"
   ]
  },
  {
   "cell_type": "markdown",
   "metadata": {
    "_uuid": "010b0443df92a322a4552871a8dba6f975c49931"
   },
   "source": [
    "If you wish not to use GC then better watch your RAM. It is likely to over-exceed and Kernel error may come up."
   ]
  },
  {
   "cell_type": "markdown",
   "metadata": {
    "_uuid": "c2884ca0da33fed7f3efed609aa1d503fed46468"
   },
   "source": [
    "## Handling Categorical Features"
   ]
  },
  {
   "cell_type": "code",
   "execution_count": 14,
   "metadata": {
    "_uuid": "44fad6607f547d42b42e330405ea9ae7cace49ed",
    "collapsed": true
   },
   "outputs": [],
   "source": [
    "# function to obtain Categorical Features\n",
    "def _get_categorical_features(df):\n",
    "    feats = [col for col in list(df.columns) if df[col].dtype == 'object']\n",
    "    return feats\n",
    "\n",
    "# function to factorize categorical features\n",
    "def _factorize_categoricals(df, cats):\n",
    "    for col in cats:\n",
    "        df[col], _ = pd.factorize(df[col])\n",
    "    return df \n",
    "\n",
    "# function to create dummy variables of categorical features\n",
    "def _get_dummies(df, cats):\n",
    "    for col in cats:\n",
    "        df = pd.concat([df, pd.get_dummies(df[col], prefix=col)], axis=1)\n",
    "    return df "
   ]
  },
  {
   "cell_type": "code",
   "execution_count": 15,
   "metadata": {
    "_uuid": "c2565e144ab38bf44fa574e233671f78295e4a17",
    "collapsed": true
   },
   "outputs": [],
   "source": [
    "# # factorize the categorical features from train and test data\n",
    "# df_cats = _get_categorical_features(df)\n",
    "# df = _factorize_categoricals(df, df_cats)"
   ]
  },
  {
   "cell_type": "markdown",
   "metadata": {
    "_uuid": "0611d7b5506df130bd520468997ea88ad54b578a",
    "collapsed": true
   },
   "source": [
    "# 5. Exploration of Bureau and Bureau_data"
   ]
  },
  {
   "cell_type": "code",
   "execution_count": 16,
   "metadata": {
    "_uuid": "1e00071483a9a0f08d1bfd2e738b1a77898d7ce2",
    "collapsed": true
   },
   "outputs": [],
   "source": [
    "bureau = pd.read_csv('../input/bureau.csv', nrows = None)\n",
    "bb = pd.read_csv('../input/bureau_balance.csv', nrows = None)"
   ]
  },
  {
   "cell_type": "markdown",
   "metadata": {
    "_uuid": "cbc5e03abc2fadf4ed578278b70c585195a6405e"
   },
   "source": [
    "## 5.1 One Hot Encoding"
   ]
  },
  {
   "cell_type": "code",
   "execution_count": 17,
   "metadata": {
    "_uuid": "eeb10caba8b02429f349a9b27a5a1951280ef0bc",
    "collapsed": true
   },
   "outputs": [],
   "source": [
    "bereau_cats = _get_categorical_features(bureau)\n",
    "bb_cats = _get_categorical_features(bb)\n",
    "\n",
    "bureau = _get_dummies(bureau,bereau_cats)\n",
    "bb = _get_dummies(bb,bb_cats)"
   ]
  },
  {
   "cell_type": "markdown",
   "metadata": {
    "_uuid": "011378235f3d2f9c877ac810b25550f09bc00ef8"
   },
   "source": [
    "## 5.2 Feature Engineering - Bureau Data"
   ]
  },
  {
   "cell_type": "code",
   "execution_count": 18,
   "metadata": {
    "_uuid": "fa9d9b0ed7d82e2d697983043de1445f9d24eb0f"
   },
   "outputs": [
    {
     "data": {
      "text/plain": [
       "21"
      ]
     },
     "execution_count": 18,
     "metadata": {},
     "output_type": "execute_result"
    }
   ],
   "source": [
    "# Average Values for all bureau features \n",
    "bureau_avg = bureau.groupby('SK_ID_CURR').mean()\n",
    "bureau_avg['buro_count'] = bureau[['SK_ID_BUREAU','SK_ID_CURR']].groupby('SK_ID_CURR').count()['SK_ID_BUREAU']\n",
    "bureau_avg.columns = ['b_' + f_ for f_ in bureau_avg.columns]\n",
    "df = df.merge(right=bureau_avg.reset_index(), how='left', on='SK_ID_CURR')\n",
    "#df.head()\n",
    "del bb, bureau_avg\n",
    "gc.collect()"
   ]
  },
  {
   "cell_type": "markdown",
   "metadata": {
    "_uuid": "5402dc0e5b7acf9a177b94249ee186b0205b4e90"
   },
   "source": [
    "# 6. Exploration of Previous Application"
   ]
  },
  {
   "cell_type": "code",
   "execution_count": 19,
   "metadata": {
    "_uuid": "1291f7782b48ceffe05f29b895e65e979f7ca67b",
    "collapsed": true
   },
   "outputs": [],
   "source": [
    "prev = pd.read_csv('../input/previous_application.csv', nrows = None)"
   ]
  },
  {
   "cell_type": "markdown",
   "metadata": {
    "_uuid": "cc3e1b660e7512b48b364d1e8b9e152ed4528a80"
   },
   "source": [
    "## 6.1 Handling Outliers"
   ]
  },
  {
   "cell_type": "code",
   "execution_count": 20,
   "metadata": {
    "_uuid": "5c67c7c7de830aeb42e45c2275f09ce51d252be6",
    "collapsed": true
   },
   "outputs": [],
   "source": [
    "prev['DAYS_FIRST_DRAWING'].replace(365243, np.nan, inplace= True)\n",
    "prev['DAYS_FIRST_DUE'].replace(365243, np.nan, inplace= True)\n",
    "prev['DAYS_LAST_DUE_1ST_VERSION'].replace(365243, np.nan, inplace= True)\n",
    "prev['DAYS_LAST_DUE'].replace(365243, np.nan, inplace= True)\n",
    "prev['DAYS_TERMINATION'].replace(365243, np.nan, inplace= True)"
   ]
  },
  {
   "cell_type": "markdown",
   "metadata": {
    "_uuid": "c8b307f4c5aae26dfcf5550c7c2d34f72befcc6e"
   },
   "source": [
    "## 6.2 One Hot Encoding"
   ]
  },
  {
   "cell_type": "code",
   "execution_count": 21,
   "metadata": {
    "_uuid": "765cd8fd11dc5f63c9235031439531b234c9a1c8",
    "collapsed": true
   },
   "outputs": [],
   "source": [
    "prev_app_cats = _get_categorical_features(prev)\n",
    "prev = _get_dummies(prev, prev_app_cats)"
   ]
  },
  {
   "cell_type": "markdown",
   "metadata": {
    "_uuid": "618ca2846f5feb87574863c80ec443fc721f4179"
   },
   "source": [
    "## 6.3 Feature Engineering - Previous Application"
   ]
  },
  {
   "cell_type": "code",
   "execution_count": 22,
   "metadata": {
    "_uuid": "9e36a67a4a872bb1e6fe1588a862e5321f84b596"
   },
   "outputs": [
    {
     "data": {
      "text/plain": [
       "231"
      ]
     },
     "execution_count": 22,
     "metadata": {},
     "output_type": "execute_result"
    }
   ],
   "source": [
    "## count the number of previous applications for a given ID\n",
    "prev_apps_count = prev[['SK_ID_CURR', 'SK_ID_PREV']].groupby('SK_ID_CURR').count()\n",
    "prev['SK_ID_PREV'] = prev['SK_ID_CURR'].map(prev_apps_count['SK_ID_PREV'])\n",
    "\n",
    "## Average values for all other features in previous applications\n",
    "prev_apps_avg = prev.groupby('SK_ID_CURR').mean()\n",
    "prev_apps_avg.columns = ['p_' + col for col in prev_apps_avg.columns]\n",
    "df = df.merge(right=prev_apps_avg.reset_index(), how='left', on='SK_ID_CURR')\n",
    "\n",
    "## Garbage Collection\n",
    "del prev, prev_apps_avg\n",
    "gc.collect()"
   ]
  },
  {
   "cell_type": "markdown",
   "metadata": {
    "_uuid": "4382aa7739dc6c27137bc8b13794741cb20cd537"
   },
   "source": [
    "# 7. Exploration of POS Cash Balance"
   ]
  },
  {
   "cell_type": "code",
   "execution_count": 23,
   "metadata": {
    "_uuid": "50c46aec0b3f95b28956c4397d2e94b83eb1e84c",
    "collapsed": true
   },
   "outputs": [],
   "source": [
    "pos = pd.read_csv('../input/POS_CASH_balance.csv', nrows = None)"
   ]
  },
  {
   "cell_type": "markdown",
   "metadata": {
    "_uuid": "d220d6e10f1716a6ce1bb2bf0ea618e34b6272e0"
   },
   "source": [
    "## 7.1 One Hot Encoding"
   ]
  },
  {
   "cell_type": "code",
   "execution_count": 24,
   "metadata": {
    "_uuid": "8765ad462f46a345e3dde9efc33d9cb97e2da6fc",
    "collapsed": true
   },
   "outputs": [],
   "source": [
    "pos_cats = _get_categorical_features(pos)\n",
    "pos = _get_dummies(pos, pos_cats)"
   ]
  },
  {
   "cell_type": "markdown",
   "metadata": {
    "_uuid": "a886fd19e34aa4e2bed9eabce2aa4ffa055c5ba7"
   },
   "source": [
    "## 7.2 Feature Engineering - POS Cash Balance"
   ]
  },
  {
   "cell_type": "code",
   "execution_count": 25,
   "metadata": {
    "_uuid": "69f06ba34abe1b9df55847eeaf8b27192c6799e1"
   },
   "outputs": [
    {
     "data": {
      "text/plain": [
       "58"
      ]
     },
     "execution_count": 25,
     "metadata": {},
     "output_type": "execute_result"
    }
   ],
   "source": [
    "### count the number of pos cash for a given ID\n",
    "pos_count = pos[['SK_ID_CURR', 'SK_ID_PREV']].groupby('SK_ID_CURR').count()\n",
    "pos['SK_ID_PREV'] = pos['SK_ID_CURR'].map(pos_count['SK_ID_PREV'])\n",
    "\n",
    "## Average Values for all other variables in pos cash\n",
    "pos_avg = pos.groupby('SK_ID_CURR').mean()\n",
    "df = df.merge(right=pos_avg.reset_index(), how='left', on='SK_ID_CURR')\n",
    "\n",
    "\n",
    "del pos, pos_avg\n",
    "gc.collect()"
   ]
  },
  {
   "cell_type": "markdown",
   "metadata": {
    "_uuid": "f8e38e768741a7ed0ecae45b0256a226bd430dea"
   },
   "source": [
    "# 8. Exploration of Installment Payments"
   ]
  },
  {
   "cell_type": "code",
   "execution_count": 26,
   "metadata": {
    "_uuid": "462518633720db6e6ed44970c3be8c65a1e458a1",
    "collapsed": true
   },
   "outputs": [],
   "source": [
    "ins = pd.read_csv('../input/installments_payments.csv', nrows = None)"
   ]
  },
  {
   "cell_type": "markdown",
   "metadata": {
    "_uuid": "c091f246e3e64673c5e8d533dce9a9ca13523086"
   },
   "source": [
    "## 8.1 One Hot Encoding"
   ]
  },
  {
   "cell_type": "code",
   "execution_count": 27,
   "metadata": {
    "_uuid": "3b57322728a6a17e6c099b56db6fcd7556b32fda",
    "collapsed": true
   },
   "outputs": [],
   "source": [
    "ins_cats = _get_categorical_features(ins)\n",
    "ins = _get_dummies(ins, ins_cats)"
   ]
  },
  {
   "cell_type": "markdown",
   "metadata": {
    "_uuid": "0bd58e38ff0acbb2510ae029c19d8a1fcd49b82f"
   },
   "source": [
    "## 8.2 Adding some new features"
   ]
  },
  {
   "cell_type": "code",
   "execution_count": 28,
   "metadata": {
    "_uuid": "312febe9c255cfdf4aa60731ba9f85a67eb68640",
    "collapsed": true
   },
   "outputs": [],
   "source": [
    "# Percentage and difference paid in each installment (amount paid and installment value)\n",
    "ins['PAYMENT_PERC'] = ins['AMT_PAYMENT'] / ins['AMT_INSTALMENT']\n",
    "ins['PAYMENT_DIFF'] = ins['AMT_INSTALMENT'] - ins['AMT_PAYMENT']\n",
    "\n",
    "# Days past due and days before due (no negative values)\n",
    "ins['DPD'] = ins['DAYS_ENTRY_PAYMENT'] - ins['DAYS_INSTALMENT']\n",
    "ins['DBD'] = ins['DAYS_INSTALMENT'] - ins['DAYS_ENTRY_PAYMENT']\n",
    "ins['DPD'] = ins['DPD'].apply(lambda x: x if x > 0 else 0)\n",
    "ins['DBD'] = ins['DBD'].apply(lambda x: x if x > 0 else 0)"
   ]
  },
  {
   "cell_type": "markdown",
   "metadata": {
    "_uuid": "98e28fab652cd47c8ad9ef14f4ac889e078c747d"
   },
   "source": [
    "## 8.3 Feature Engineering - Installment Payments"
   ]
  },
  {
   "cell_type": "code",
   "execution_count": 29,
   "metadata": {
    "_uuid": "bafc150100853613b8e19eb4a84c16bd3fb33727"
   },
   "outputs": [
    {
     "data": {
      "text/plain": [
       "58"
      ]
     },
     "execution_count": 29,
     "metadata": {},
     "output_type": "execute_result"
    }
   ],
   "source": [
    "## count the number of previous installments\n",
    "cnt_inst = ins[['SK_ID_CURR', 'SK_ID_PREV']].groupby('SK_ID_CURR').count()\n",
    "ins['SK_ID_PREV'] = ins['SK_ID_CURR'].map(cnt_inst['SK_ID_PREV'])\n",
    "\n",
    "## Average values for all other variables in installments payments\n",
    "avg_inst = ins.groupby('SK_ID_CURR').mean()\n",
    "avg_inst.columns = ['i_' + f_ for f_ in avg_inst.columns]\n",
    "df = df.merge(right=avg_inst.reset_index(), how='left', on='SK_ID_CURR')\n",
    "\n",
    "del ins, avg_inst\n",
    "gc.collect()"
   ]
  },
  {
   "cell_type": "markdown",
   "metadata": {
    "_uuid": "9249c4627c0dd74da455bab7683087966e49641d"
   },
   "source": [
    "# 9. Exploration of Credit Card"
   ]
  },
  {
   "cell_type": "code",
   "execution_count": 30,
   "metadata": {
    "_uuid": "23dc2a5acbe8d5fd767158248c97ec3a88d1a9de",
    "collapsed": true
   },
   "outputs": [],
   "source": [
    "cc = pd.read_csv('../input/credit_card_balance.csv', nrows = None)"
   ]
  },
  {
   "cell_type": "markdown",
   "metadata": {
    "_uuid": "ba4def079c1aac85c54ca57ed9adc82241fa1fda"
   },
   "source": [
    "## 9.1 One Hot Encoding"
   ]
  },
  {
   "cell_type": "code",
   "execution_count": 31,
   "metadata": {
    "_uuid": "56389d553951ca7ea8d491f85d1f7d9eefac9cff",
    "collapsed": true
   },
   "outputs": [],
   "source": [
    "ccbal_cats = _get_categorical_features(cc)\n",
    "credit_card_balance = _get_dummies(cc, ccbal_cats)"
   ]
  },
  {
   "cell_type": "markdown",
   "metadata": {
    "_uuid": "7ece39f68f44cfcf967da377b425491f6324290b"
   },
   "source": [
    "## 9.2 Feature Engineering - Credit Card"
   ]
  },
  {
   "cell_type": "code",
   "execution_count": 32,
   "metadata": {
    "_uuid": "bb64f15c35af67d291a3e37cd76933f5ee5d8f17"
   },
   "outputs": [
    {
     "data": {
      "text/plain": [
       "49"
      ]
     },
     "execution_count": 32,
     "metadata": {},
     "output_type": "execute_result"
    }
   ],
   "source": [
    "### count the number of previous applications for a given ID\n",
    "nb_prevs = credit_card_balance[['SK_ID_CURR', 'SK_ID_PREV']].groupby('SK_ID_CURR').count()\n",
    "credit_card_balance['SK_ID_PREV'] = credit_card_balance['SK_ID_CURR'].map(nb_prevs['SK_ID_PREV'])\n",
    "\n",
    "### average of all other columns \n",
    "avg_cc_bal = credit_card_balance.groupby('SK_ID_CURR').mean()\n",
    "avg_cc_bal.columns = ['cc_bal_' + f_ for f_ in avg_cc_bal.columns]\n",
    "df = df.merge(right=avg_cc_bal.reset_index(), how='left', on='SK_ID_CURR')\n",
    "\n",
    "del cc, avg_cc_bal\n",
    "gc.collect()"
   ]
  },
  {
   "cell_type": "markdown",
   "metadata": {
    "_uuid": "ca0e83f7af3872c844713165309c98c537183486"
   },
   "source": [
    "# 10. LightGBM\n",
    "\n",
    "- It is a gradient boosting framework that uses **tree based learning algorithm**.\n",
    "- It grows tree vertically while other algorithm grows trees horizontally meaning that Light GBM grows tree leaf-wise while other algorithm grows level-wise.\n",
    "-  It is prefixed as ‘Light’ because of its** high speed**.\n",
    "- It can handle the **large size of data** and takes **lower memory to run.**\n",
    "- This is popular because it focuses on **accuracy of results.**\n",
    "-  LGBM also supports **GPU learning.**\n",
    "\n",
    "**Why not to use Light GBM?**\n",
    "\n",
    "- It is **not advisable** to use LGBM on **small datasets**.\n",
    "- Light GBM is sensitive to overfitting and can easily **overfit small data**.\n",
    "\n",
    "The only complicated thing is **parameter tuning.** Light GBM covers more than 100 parameters but don’t worry, you don’t need to learn all.\n",
    "\n",
    "Lets learn about some of the parameters we used in our model :\n",
    "\n",
    "- **n_estimators** : number of boosting iterations.\n",
    "- **objective** : This is the most important parameter and specifies the application of your model, whether it is a regression problem or classification problem. LightGBM will by default consider model as a regression model.\n",
    "\n",
    "    - regression: for regression\n",
    "    - binary: for binary classification\n",
    "    - multiclass: for multiclass classification problem\n",
    "   \n",
    "- **learning_rate** : This determines the impact of each tree on the final outcome. GBM works by starting with an initial estimate which is updated using the output of each tree. The learning parameter controls the magnitude of this change in the estimates. Typical values: 0.1, 0.001, 0.003…\n",
    "- **reg_alpha** : L1 regularization\n",
    "-  **reg_lambda** : L2 regularization\n"
   ]
  },
  {
   "cell_type": "code",
   "execution_count": 33,
   "metadata": {
    "_uuid": "78a26e928b0d4d97b539829d3026ba15ffd185ef",
    "collapsed": true
   },
   "outputs": [],
   "source": [
    "from lightgbm import LGBMClassifier\n",
    "from sklearn.metrics import roc_auc_score, roc_curve\n",
    "from sklearn.model_selection import KFold, StratifiedKFold"
   ]
  },
  {
   "cell_type": "markdown",
   "metadata": {
    "_uuid": "1541ae0f6aede03285446f507870afe6fb7e3eff"
   },
   "source": [
    "## 10.1 Prepare Final Train and Test data"
   ]
  },
  {
   "cell_type": "code",
   "execution_count": 34,
   "metadata": {
    "_uuid": "e831191319f489018f28a40ac116f30bdf764775"
   },
   "outputs": [
    {
     "name": "stdout",
     "output_type": "stream",
     "text": [
      "Starting LightGBM. Train shape: (307507, 512), test shape: (48744, 512)\n"
     ]
    }
   ],
   "source": [
    "# Divide in training/validation and test data\n",
    "train_df = df[df['TARGET'].notnull()]\n",
    "test_df = df[df['TARGET'].isnull()]\n",
    "print(\"Starting LightGBM. Train shape: {}, test shape: {}\".format(train_df.shape, test_df.shape))"
   ]
  },
  {
   "cell_type": "markdown",
   "metadata": {
    "_uuid": "015b2cf7d12c427cf63c92e3fca80126c7e42817"
   },
   "source": [
    "## 10.2 Cross Validation Model\n",
    "**K-Fold Cross Validation**: To reduce variability, in most machine learning methods multiple rounds of cross-validation are performed using different partitions, and the validation are averaged at the end. This method is known as k-fold cross validation."
   ]
  },
  {
   "cell_type": "code",
   "execution_count": 35,
   "metadata": {
    "_uuid": "72d9d6fb37fbd90c0f116a315aba6eefc4c3ea7b",
    "collapsed": true
   },
   "outputs": [],
   "source": [
    "folds = KFold(n_splits=2, shuffle=True, random_state=1001)"
   ]
  },
  {
   "cell_type": "code",
   "execution_count": 36,
   "metadata": {
    "_uuid": "8333f124dcde94d2fe874909075fd1a251a5595b",
    "collapsed": true
   },
   "outputs": [],
   "source": [
    "# Create arrays and dataframes to store results\n",
    "oof_preds = np.zeros(train_df.shape[0])\n",
    "sub_preds = np.zeros(test_df.shape[0])\n",
    "feature_importance_df = pd.DataFrame()\n",
    "feats = [f for f in train_df.columns if f not in ['TARGET','SK_ID_CURR','SK_ID_BUREAU','SK_ID_PREV','index']]"
   ]
  },
  {
   "cell_type": "markdown",
   "metadata": {
    "_uuid": "2f0ca0b659bd47037089603c705c31ddadde3139"
   },
   "source": [
    "## 10.3 Fitting the model and Predicting"
   ]
  },
  {
   "cell_type": "code",
   "execution_count": 37,
   "metadata": {
    "_uuid": "4f76c5f8f54bee6c0cb04f6220edbf750034a8c9",
    "scrolled": false
   },
   "outputs": [
    {
     "name": "stdout",
     "output_type": "stream",
     "text": [
      "Training until validation scores don't improve for 100 rounds.\n",
      "[200]\ttrain's auc: 0.828291\tvalid's auc: 0.786838\n",
      "Early stopping, best iteration is:\n",
      "[294]\ttrain's auc: 0.847136\tvalid's auc: 0.788757\n",
      "Training until validation scores don't improve for 100 rounds.\n",
      "[200]\ttrain's auc: 0.828771\tvalid's auc: 0.781331\n",
      "[400]\ttrain's auc: 0.865384\tvalid's auc: 0.783519\n",
      "Early stopping, best iteration is:\n",
      "[493]\ttrain's auc: 0.879284\tvalid's auc: 0.783695\n",
      "Training until validation scores don't improve for 100 rounds.\n",
      "[200]\ttrain's auc: 0.828487\tvalid's auc: 0.78409\n",
      "[400]\ttrain's auc: 0.864577\tvalid's auc: 0.786222\n",
      "Early stopping, best iteration is:\n",
      "[492]\ttrain's auc: 0.878172\tvalid's auc: 0.786549\n",
      "Training until validation scores don't improve for 100 rounds.\n",
      "[200]\ttrain's auc: 0.829413\tvalid's auc: 0.780663\n",
      "[400]\ttrain's auc: 0.865365\tvalid's auc: 0.7824\n",
      "Early stopping, best iteration is:\n",
      "[427]\ttrain's auc: 0.869532\tvalid's auc: 0.782605\n",
      "Training until validation scores don't improve for 100 rounds.\n",
      "[200]\ttrain's auc: 0.828597\tvalid's auc: 0.786878\n",
      "[400]\ttrain's auc: 0.864476\tvalid's auc: 0.788384\n",
      "Early stopping, best iteration is:\n",
      "[337]\ttrain's auc: 0.854482\tvalid's auc: 0.788586\n",
      "Full AUC score 0.785903\n"
     ]
    }
   ],
   "source": [
    "# Iterate through each fold\n",
    "for train_indices, valid_indices in folds.split(train_df[feats],train_df['TARGET']):\n",
    "        \n",
    "    # Training data for the fold\n",
    "    train_features, train_labels = train_df[feats].iloc[train_indices], train_df['TARGET'].iloc[train_indices]\n",
    "    # Validation data for the fold\n",
    "    valid_features, valid_labels = train_df[feats].iloc[valid_indices], train_df['TARGET'].iloc[valid_indices]\n",
    "        \n",
    "    # Create the model\n",
    "    model = LGBMClassifier(n_estimators=5000, objective = 'binary', \n",
    "                                   class_weight = 'balanced', learning_rate = 0.05, \n",
    "                                   reg_alpha = 0.1, reg_lambda = 0.1, \n",
    "                                   subsample = 0.8, n_jobs = -1, random_state = 50)\n",
    "    \n",
    "        \n",
    "    # Train the model\n",
    "    model.fit(train_features, train_labels, eval_metric = 'auc',\n",
    "                eval_set = [(valid_features, valid_labels), (train_features, train_labels)],\n",
    "                eval_names = ['valid', 'train'],\n",
    "                early_stopping_rounds = 100, verbose = 200)\n",
    "    \n",
    "    oof_preds[valid_indices] = model.predict_proba(valid_features, num_iteration=model.best_iteration_)[:, 1]\n",
    "    sub_preds += model.predict_proba(test_df[feats], num_iteration=model.best_iteration_)[:, 1] / folds.n_splits\n",
    "\n",
    "    fold_importance_df = pd.DataFrame()\n",
    "    fold_importance_df[\"feature\"] = feats\n",
    "    fold_importance_df[\"importance\"] = model.feature_importances_\n",
    "    feature_importance_df = pd.concat([feature_importance_df, fold_importance_df], axis=0)\n",
    "    del model, train_features, train_labels, valid_features, valid_labels\n",
    "    gc.collect()\n",
    "\n",
    "print('Full AUC score %.6f' % roc_auc_score(train_df['TARGET'], oof_preds))"
   ]
  },
  {
   "cell_type": "markdown",
   "metadata": {
    "_uuid": "a0bba5ba0ed6d00c15d1d14efdd99493e3b5a194"
   },
   "source": [
    "## 10.5 Submission"
   ]
  },
  {
   "cell_type": "code",
   "execution_count": null,
   "metadata": {
    "_uuid": "40d83b2ab272681c270373fcc5e30d079a77d0f5",
    "collapsed": true
   },
   "outputs": [],
   "source": [
    "test_df['TARGET'] = sub_preds\n",
    "test_df[['SK_ID_CURR', 'TARGET']].to_csv('submission.csv', index= False)"
   ]
  }
 ],
 "metadata": {
  "kernelspec": {
   "display_name": "Python 3",
   "language": "python",
   "name": "python3"
  },
  "language_info": {
   "codemirror_mode": {
    "name": "ipython",
    "version": 3
   },
   "file_extension": ".py",
   "mimetype": "text/x-python",
   "name": "python",
   "nbconvert_exporter": "python",
   "pygments_lexer": "ipython3",
   "version": "3.8.5"
  }
 },
 "nbformat": 4,
 "nbformat_minor": 1
}
